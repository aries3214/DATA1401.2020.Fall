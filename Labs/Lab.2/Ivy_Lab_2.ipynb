{
  "nbformat": 4,
  "nbformat_minor": 0,
  "metadata": {
    "colab": {
      "name": "Ivy_Lab-2.ipynb",
      "provenance": [],
      "collapsed_sections": []
    },
    "kernelspec": {
      "display_name": "Python 3",
      "language": "python",
      "name": "python3"
    },
    "language_info": {
      "codemirror_mode": {
        "name": "ipython",
        "version": 3
      },
      "file_extension": ".py",
      "mimetype": "text/x-python",
      "name": "python",
      "nbconvert_exporter": "python",
      "pygments_lexer": "ipython3",
      "version": "3.8.0"
    }
  },
  "cells": [
    {
      "cell_type": "markdown",
      "metadata": {
        "id": "uk7yc0nadBGa"
      },
      "source": [
        "# Lab 2\n",
        "\n",
        "[![Open In Colab](https://colab.research.google.com/assets/colab-badge.svg)](https://github.com/UTA-DataScience/DATA1401.2020.Fall/blob/master/Labs/Lab.2/Lab.2.ipynb)\n",
        "\n",
        "\n"
      ]
    },
    {
      "cell_type": "markdown",
      "metadata": {
        "id": "u9RAhs5b4vXY"
      },
      "source": [
        "\n",
        "## Make your fork private\n",
        "\n",
        "Navigate your fork of the course repository on GitHub and click the \"gear\" icon to change the settings. Select \"Options\" on the left and scroll all the way down. Then click on \"Make Private\" to make your repository private. \n",
        "\n",
        "Next select the collaborators on the left and add your Professor as a collaborator. "
      ]
    },
    {
      "cell_type": "markdown",
      "metadata": {
        "id": "q-gMWiE4dBG_"
      },
      "source": [
        "## Python Programming\n",
        "\n",
        "In the remainder of this lab you will practice python by solving some simple exercises. \n",
        "\n",
        "*Exercise 1:* Write 2 functions `even(x)` and `odd(x)` that take an integer and returns True if the input is even or odd, otherwise returns False. Use cell below for your solution. Use the subsequent cell to demonstrate that your solution works. Feel free to add additional cell as needed using the \"+\" button on the button bar above. "
      ]
    },
    {
      "cell_type": "code",
      "metadata": {
        "id": "jwN5jff1dBG_"
      },
      "source": [
        "def even(x):\n",
        "  if x%2==0:\n",
        "    return True\n",
        "  else:\n",
        "    return False\n",
        "  \n",
        "def odd(x):\n",
        "  return x%2==1"
      ],
      "execution_count": null,
      "outputs": []
    },
    {
      "cell_type": "code",
      "metadata": {
        "id": "xNJAcodhdBHB",
        "outputId": "f45b167a-b972-448e-c351-310a1e8f2715",
        "colab": {
          "base_uri": "https://localhost:8080/",
          "height": 92
        }
      },
      "source": [
        "print(\"even test with even number:\", even(2))\n",
        "print(\"even test with odd number:\", even(3))\n",
        "print(\"odd test with even number:\", odd(2))\n",
        "print(\"odd test with odd number:\", odd(3))"
      ],
      "execution_count": null,
      "outputs": [
        {
          "output_type": "stream",
          "text": [
            "even test with even number: True\n",
            "even test with odd number: False\n",
            "odd test with even number: False\n",
            "odd test with odd number: True\n"
          ],
          "name": "stdout"
        }
      ]
    },
    {
      "cell_type": "markdown",
      "metadata": {
        "id": "KL_pyzG8dBHD"
      },
      "source": [
        "*Exercise 2:* Write a function that takes a list of numbers as input and returns a list of the subset of elements that are less that 10. Test your solution."
      ]
    },
    {
      "cell_type": "code",
      "metadata": {
        "id": "g8nt0wnldBHE"
      },
      "source": [
        "# Write you solution here\n",
        "def lessthan10(lst):\n",
        "  outlst=list()\n",
        "  for i in lst:\n",
        "    if i<10:\n",
        "      outlst.append(i)\n",
        "  return outlst\n",
        "      "
      ],
      "execution_count": null,
      "outputs": []
    },
    {
      "cell_type": "code",
      "metadata": {
        "id": "__HTUWA1dBHH",
        "outputId": "78b58725-8e0d-4d4e-c096-93ffeeb06dd6",
        "colab": {
          "base_uri": "https://localhost:8080/",
          "height": 35
        }
      },
      "source": [
        "# Test your solution here\n",
        "lessthan10([1,2,3,56,65,7,8,8876])"
      ],
      "execution_count": null,
      "outputs": [
        {
          "output_type": "execute_result",
          "data": {
            "text/plain": [
              "[1, 2, 3, 7, 8]"
            ]
          },
          "metadata": {
            "tags": []
          },
          "execution_count": 19
        }
      ]
    },
    {
      "cell_type": "markdown",
      "metadata": {
        "id": "T0cx91JudBHK"
      },
      "source": [
        "*Exercise 3:* Write a function that takes a number `x_max` as input and returns a function that performs the same task as exercise 2, but for `x_max` instead of 10."
      ]
    },
    {
      "cell_type": "code",
      "metadata": {
        "id": "PqummMcmdBHK"
      },
      "source": [
        "# Write you solution here\n",
        "def x_max(lst):\n",
        "  high=max(lst)\n",
        "  return high"
      ],
      "execution_count": 1,
      "outputs": []
    },
    {
      "cell_type": "code",
      "metadata": {
        "id": "2EB2UPLR41xB",
        "outputId": "b68f1db1-545d-491c-af3f-5caf1f36c18d",
        "colab": {
          "base_uri": "https://localhost:8080/",
          "height": 35
        }
      },
      "source": [
        "# Test your solution here\n",
        "l = [1,2,34,56,78,90,56,356,78]\n",
        "print(x_max(l))"
      ],
      "execution_count": 2,
      "outputs": [
        {
          "output_type": "stream",
          "text": [
            "356\n"
          ],
          "name": "stdout"
        }
      ]
    },
    {
      "cell_type": "markdown",
      "metadata": {
        "id": "h0I8M27LdBHP"
      },
      "source": [
        "*Exercise 4:* Write a function that takes an interger as input and returns a list of all divisors of that number."
      ]
    },
    {
      "cell_type": "code",
      "metadata": {
        "id": "k6GUpDyrdBHP"
      },
      "source": [
        "# Write you solution here\n",
        "def int_div(num):\n",
        "  out=list()\n",
        "  i=1\n",
        "  while i<=num:\n",
        "    if num%i==0:\n",
        "      out.append(i)\n",
        "    i=i+1\n",
        "  return out"
      ],
      "execution_count": null,
      "outputs": []
    },
    {
      "cell_type": "code",
      "metadata": {
        "id": "YDvRmft-dBHR",
        "outputId": "89f3f1db-b250-44d0-b115-e3fa5a2e95c4",
        "colab": {
          "base_uri": "https://localhost:8080/",
          "height": 54
        }
      },
      "source": [
        "# Test your solution here\n",
        "number = int(input(\"Enter a number:\"))\n",
        "print(int_div(number))"
      ],
      "execution_count": null,
      "outputs": [
        {
          "output_type": "stream",
          "text": [
            "Enter a number:1000\n",
            "[1, 2, 4, 5, 8, 10, 20, 25, 40, 50, 100, 125, 200, 250, 500, 1000]\n"
          ],
          "name": "stdout"
        }
      ]
    },
    {
      "cell_type": "markdown",
      "metadata": {
        "id": "IOWnLMvxdBHT"
      },
      "source": [
        "*Exercise 5:* Write a function that takes 2 lists as input and returns a list that contains only the elements that are common between the lists (without duplicates). Make sure your program works on two lists of different sizes."
      ]
    },
    {
      "cell_type": "code",
      "metadata": {
        "id": "tR31bnTDdBHT"
      },
      "source": [
        "# Write you solution here\n",
        "\n",
        "def lstcompare(lst1, lst2):\n",
        "  outlist=list()\n",
        "  for element in lst1:\n",
        "    if element in lst2:\n",
        "      outlist.append(element)\n",
        "  return outlist"
      ],
      "execution_count": null,
      "outputs": []
    },
    {
      "cell_type": "code",
      "metadata": {
        "id": "IJDf6ebYdBHV",
        "outputId": "9b912562-468c-4608-fd4e-8d36f3d549b4",
        "colab": {
          "base_uri": "https://localhost:8080/",
          "height": 35
        }
      },
      "source": [
        "# Test your solution here\n",
        "lst1 = [11,23,34,47,59,81,1,\"hello\"]\n",
        "lst2 = [59,23,42,25,90,1,34,57,81,\"hello\"]\n",
        "print(lstcompare(lst1, lst2))"
      ],
      "execution_count": null,
      "outputs": [
        {
          "output_type": "stream",
          "text": [
            "[23, 34, 59, 81, 1, 'hello']\n"
          ],
          "name": "stdout"
        }
      ]
    },
    {
      "cell_type": "markdown",
      "metadata": {
        "id": "3vA7M9pldBHX"
      },
      "source": [
        "*Exercise 6:* Write a function that reads takes a string and returns `True` if the string is a palindrome. (A palindrome is a string that reads the same forwards and backwards.)"
      ]
    },
    {
      "cell_type": "code",
      "metadata": {
        "id": "ncyMDzp6dBHX"
      },
      "source": [
        "# Write you solution here\n",
        "def palindrome(strng):\n",
        "  if strng==strng[::-1]:\n",
        "    print(True)\n",
        "  else:\n",
        "    print(False)\n",
        "  return\n"
      ],
      "execution_count": null,
      "outputs": []
    },
    {
      "cell_type": "code",
      "metadata": {
        "id": "v5cmVQ6MdBHZ",
        "outputId": "787bea71-a5f1-47e8-d144-be59c189c275",
        "colab": {
          "base_uri": "https://localhost:8080/",
          "height": 54
        }
      },
      "source": [
        "# Test your solution here\n",
        "pal = input(\"Enter a word:\")\n",
        "palindrome(pal)"
      ],
      "execution_count": null,
      "outputs": [
        {
          "output_type": "stream",
          "text": [
            "Enter a word:kayak\n",
            "True\n"
          ],
          "name": "stdout"
        }
      ]
    },
    {
      "cell_type": "markdown",
      "metadata": {
        "id": "fT35xwandBHc"
      },
      "source": [
        "*Exercise 7:* Write a Rock-Paper-Scissors game function, that takes 2 strings, the inputs of player 1 and player 2, and output 1 or 2 corresponding to which player wins, or 0 if draw.\n",
        "\n",
        "Implement a Rock-Paper-Scissors game by soliciting input from 2 players, testing with this function, and repeating if there is a draw.\n",
        "\n",
        "Remember the rules:\n",
        "\n",
        "* Rock beats scissors\n",
        "* Scissors beats paper\n",
        "* Paper beats rock"
      ]
    },
    {
      "cell_type": "code",
      "metadata": {
        "id": "U1_HxxaWdBHd"
      },
      "source": [
        "# Write you solution here\n",
        "def roshambo(s1, s2):\n",
        "  if s1==s2:\n",
        "    print(0)\n",
        "  elif s1=='Rock':\n",
        "    if s2=='Scissors':\n",
        "      print(1)\n",
        "    else:\n",
        "      print(2)\n",
        "  elif s1=='Scissors':\n",
        "    if s2=='Paper':\n",
        "      print(1)\n",
        "    else:\n",
        "      print(2)\n",
        "  elif s1=='Paper':\n",
        "    if s2=='Rock':\n",
        "      print(1)\n",
        "    else:\n",
        "      print(2)\n",
        "  else:\n",
        "    print(\"Invalid inputs, try again.\")\n",
        "  return"
      ],
      "execution_count": null,
      "outputs": []
    },
    {
      "cell_type": "code",
      "metadata": {
        "id": "ooR2ldZBdBHf",
        "outputId": "2bcb094a-c975-4252-d7fe-06c92bf0bacb",
        "colab": {
          "base_uri": "https://localhost:8080/",
          "height": 90
        }
      },
      "source": [
        "\n",
        "# Test your solution here\n",
        "p1=input(\"Choose between Rock, Paper, or Scissors: \")\n",
        "p2=input(\"Choose between Rock, Paper, or Scissors: \")\n",
        "print(roshambo(p1, p2))"
      ],
      "execution_count": null,
      "outputs": [
        {
          "output_type": "stream",
          "text": [
            "Choose between Rock, Paper, or Scissors: Rock\n",
            "Choose between Rock, Paper, or Scissors: Rock\n",
            "0\n",
            "None\n"
          ],
          "name": "stdout"
        }
      ]
    },
    {
      "cell_type": "markdown",
      "metadata": {
        "id": "dJQzXNKzdBHh"
      },
      "source": [
        "*Exercise 8:* Write a function that takes a integer `n` as input and \n",
        "outputs a list of the first `n` Fibonnaci numbers.\n",
        "\n",
        "The Fibonnaci seqence is a sequence of numbers where the next number in the sequence is the sum of the previous two numbers in the sequence. The sequence looks like this: 1, 1, 2, 3, 5, 8, 13, …)"
      ]
    },
    {
      "cell_type": "code",
      "metadata": {
        "id": "G_4ooRXTdBHh"
      },
      "source": [
        "# Write you solution here\n",
        "def fibonacci(n):\n",
        "  ol=list() #output list\n",
        "  a=b=1\n",
        "  for i in range(n):\n",
        "    a, b=b, a+b\n",
        "    ol.append(a)\n",
        "  return ol"
      ],
      "execution_count": null,
      "outputs": []
    },
    {
      "cell_type": "code",
      "metadata": {
        "id": "rzK5FskJdBHj",
        "outputId": "81301768-b9be-4eb6-9dff-9f73fea81d53",
        "colab": {
          "base_uri": "https://localhost:8080/",
          "height": 54
        }
      },
      "source": [
        "# Test your solution here\n",
        "number=int(input(\"Enter a number: \"))\n",
        "print(fibonacci(number))"
      ],
      "execution_count": null,
      "outputs": [
        {
          "output_type": "stream",
          "text": [
            "Enter a number: 10\n",
            "[1, 2, 3, 5, 8, 13, 21, 34, 55, 89]\n"
          ],
          "name": "stdout"
        }
      ]
    },
    {
      "cell_type": "markdown",
      "metadata": {
        "id": "q6c_AskadBHl"
      },
      "source": [
        "*Exercise 9:* Write a function that takes a string of consisting of several words and returns a string that reverses the order of the words.\n"
      ]
    },
    {
      "cell_type": "code",
      "metadata": {
        "id": "aJdXX6FHdBHl"
      },
      "source": [
        "# Write you solution here\n",
        "def rvrs(sent):\n",
        "  word=sent.split(' ')\n",
        "  rs=' '.join(reversed(word))\n",
        "  return rs"
      ],
      "execution_count": 3,
      "outputs": []
    },
    {
      "cell_type": "code",
      "metadata": {
        "id": "nQyhnLZ_dBHn",
        "outputId": "3e834a73-d329-46ba-85ed-a431beff4358",
        "colab": {
          "base_uri": "https://localhost:8080/",
          "height": 54
        }
      },
      "source": [
        "# Test your solution here\n",
        "sentence = input(\"Enter a sentence: \")\n",
        "print(rvrs(sentence))"
      ],
      "execution_count": 4,
      "outputs": [
        {
          "output_type": "stream",
          "text": [
            "Enter a sentence: My name is aries\n",
            "aries is name My\n"
          ],
          "name": "stdout"
        }
      ]
    },
    {
      "cell_type": "markdown",
      "metadata": {
        "id": "NFSmRaSydBHq"
      },
      "source": [
        "*Exercise 10:* Write a guessing game program that will repeatedly guess a number that the users picks, with the user indicating higher or lower, until it correctly guesses the number."
      ]
    },
    {
      "cell_type": "code",
      "metadata": {
        "id": "Ie2E1JzCdBHr"
      },
      "source": [
        "# Write you solution here\n",
        "import random\n",
        "def guess():\n",
        "  pc=random.randint(1,100)\n",
        "  user=int(input(\"Enter number between 1 and 100: \"))\n",
        "  while user != pc:\n",
        "    if user < pc:\n",
        "      print(\"Higher\")\n",
        "      user=int(input(\"Guess again: \"))\n",
        "    elif user > pc:\n",
        "      print(\"Lower\")\n",
        "      user=int(input(\"Guess again: \"))\n",
        "    elif user==pc:\n",
        "      print(\"Correct answer\")\n",
        "      break"
      ],
      "execution_count": 8,
      "outputs": []
    },
    {
      "cell_type": "code",
      "metadata": {
        "id": "6T8YdWSMdBHs",
        "outputId": "4794f2bc-d4cc-4e96-b256-22e5378aeb9c",
        "colab": {
          "base_uri": "https://localhost:8080/",
          "height": 293
        }
      },
      "source": [
        "# Test your solution here\n",
        "guess()"
      ],
      "execution_count": 10,
      "outputs": [
        {
          "output_type": "stream",
          "text": [
            "Enter number between 1 and 100: 60\n",
            "Lower\n",
            "Guess again: 50\n",
            "Lower\n",
            "Guess again: 40\n",
            "Lower\n",
            "Guess again: 31\n",
            "Lower\n",
            "Guess again: 20\n",
            "Lower\n",
            "Guess again: 10\n",
            "Lower\n",
            "Guess again: 1\n",
            "Higher\n",
            "Guess again: 2\n"
          ],
          "name": "stdout"
        }
      ]
    }
  ]
}